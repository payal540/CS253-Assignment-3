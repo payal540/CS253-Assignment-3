{
 "cells": [
  {
   "cell_type": "code",
   "execution_count": 1,
   "id": "e6d1d6ce-b678-42a1-a608-e53cfe7d42db",
   "metadata": {},
   "outputs": [],
   "source": [
    "# Import all the required libraries\n",
    "\n",
    "import pandas as pd\n",
    "import numpy as np\n",
    "import matplotlib.pyplot as plt\n",
    "from sklearn.model_selection import train_test_split\n",
    "from sklearn.neighbors import KNeighborsClassifier\n",
    "from sklearn.metrics import accuracy_score\n",
    "from sklearn.preprocessing import LabelEncoder"
   ]
  },
  {
   "cell_type": "code",
   "execution_count": 2,
   "id": "70d99664-c15c-41dd-9bf0-5f272a5ce253",
   "metadata": {},
   "outputs": [],
   "source": [
    "# Read the CSV files\n",
    "\n",
    "data = pd.read_csv('train.csv')\n",
    "test_data = pd.read_csv('test.csv')"
   ]
  },
  {
   "cell_type": "code",
   "execution_count": 3,
   "id": "f19fdaf1-bc21-4a1d-8c57-9da94b79bf05",
   "metadata": {},
   "outputs": [
    {
     "data": {
      "text/html": [
       "<div>\n",
       "<style scoped>\n",
       "    .dataframe tbody tr th:only-of-type {\n",
       "        vertical-align: middle;\n",
       "    }\n",
       "\n",
       "    .dataframe tbody tr th {\n",
       "        vertical-align: top;\n",
       "    }\n",
       "\n",
       "    .dataframe thead th {\n",
       "        text-align: right;\n",
       "    }\n",
       "</style>\n",
       "<table border=\"1\" class=\"dataframe\">\n",
       "  <thead>\n",
       "    <tr style=\"text-align: right;\">\n",
       "      <th></th>\n",
       "      <th>ID</th>\n",
       "      <th>Candidate</th>\n",
       "      <th>Constituency ∇</th>\n",
       "      <th>Party</th>\n",
       "      <th>Criminal Case</th>\n",
       "      <th>Total Assets</th>\n",
       "      <th>Liabilities</th>\n",
       "      <th>state</th>\n",
       "      <th>Education</th>\n",
       "    </tr>\n",
       "  </thead>\n",
       "  <tbody>\n",
       "    <tr>\n",
       "      <th>0</th>\n",
       "      <td>0</td>\n",
       "      <td>M.K. Mohan</td>\n",
       "      <td>ANNA NAGAR</td>\n",
       "      <td>DMK</td>\n",
       "      <td>4</td>\n",
       "      <td>211 Crore+</td>\n",
       "      <td>2 Crore+</td>\n",
       "      <td>TAMIL NADU</td>\n",
       "      <td>8th Pass</td>\n",
       "    </tr>\n",
       "    <tr>\n",
       "      <th>1</th>\n",
       "      <td>1</td>\n",
       "      <td>Khatik Ramesh Prasad</td>\n",
       "      <td>KARERA (SC)</td>\n",
       "      <td>BJP</td>\n",
       "      <td>0</td>\n",
       "      <td>1 Crore+</td>\n",
       "      <td>0</td>\n",
       "      <td>MADHYA PRADESH</td>\n",
       "      <td>12th Pass</td>\n",
       "    </tr>\n",
       "    <tr>\n",
       "      <th>2</th>\n",
       "      <td>2</td>\n",
       "      <td>Dr. Mantar Gowda</td>\n",
       "      <td>MADIKERI</td>\n",
       "      <td>INC</td>\n",
       "      <td>0</td>\n",
       "      <td>7 Crore+</td>\n",
       "      <td>22 Lac+</td>\n",
       "      <td>KARNATAKA</td>\n",
       "      <td>Post Graduate</td>\n",
       "    </tr>\n",
       "    <tr>\n",
       "      <th>3</th>\n",
       "      <td>3</td>\n",
       "      <td>Kundan Kumar</td>\n",
       "      <td>BEGUSARAI</td>\n",
       "      <td>BJP</td>\n",
       "      <td>0</td>\n",
       "      <td>9 Crore+</td>\n",
       "      <td>24 Lac+</td>\n",
       "      <td>BIHAR</td>\n",
       "      <td>Post Graduate</td>\n",
       "    </tr>\n",
       "    <tr>\n",
       "      <th>4</th>\n",
       "      <td>4</td>\n",
       "      <td>Swapan Majumder</td>\n",
       "      <td>BANGAON DAKSHIN (SC)</td>\n",
       "      <td>BJP</td>\n",
       "      <td>2</td>\n",
       "      <td>2 Crore+</td>\n",
       "      <td>61 Lac+</td>\n",
       "      <td>WEST BENGAL</td>\n",
       "      <td>8th Pass</td>\n",
       "    </tr>\n",
       "  </tbody>\n",
       "</table>\n",
       "</div>"
      ],
      "text/plain": [
       "   ID             Candidate        Constituency ∇ Party  Criminal Case   \n",
       "0   0            M.K. Mohan            ANNA NAGAR   DMK              4  \\\n",
       "1   1  Khatik Ramesh Prasad           KARERA (SC)   BJP              0   \n",
       "2   2      Dr. Mantar Gowda              MADIKERI   INC              0   \n",
       "3   3          Kundan Kumar             BEGUSARAI   BJP              0   \n",
       "4   4       Swapan Majumder  BANGAON DAKSHIN (SC)   BJP              2   \n",
       "\n",
       "  Total Assets Liabilities           state      Education  \n",
       "0   211 Crore+    2 Crore+      TAMIL NADU       8th Pass  \n",
       "1     1 Crore+           0  MADHYA PRADESH      12th Pass  \n",
       "2     7 Crore+     22 Lac+       KARNATAKA  Post Graduate  \n",
       "3     9 Crore+     24 Lac+           BIHAR  Post Graduate  \n",
       "4     2 Crore+     61 Lac+     WEST BENGAL       8th Pass  "
      ]
     },
     "execution_count": 3,
     "metadata": {},
     "output_type": "execute_result"
    }
   ],
   "source": [
    "data.head(5)"
   ]
  },
  {
   "cell_type": "code",
   "execution_count": 4,
   "id": "7b6e1dce-10bf-49c6-9d11-823dac208f7b",
   "metadata": {},
   "outputs": [],
   "source": [
    "selected_columns = ['Party', 'Criminal Case', 'Total Assets', 'Liabilities', 'state', 'Education']\n",
    "new_data = data[selected_columns].copy()"
   ]
  },
  {
   "cell_type": "code",
   "execution_count": 5,
   "id": "7730e89f-970b-4127-a3eb-639b19a28aad",
   "metadata": {},
   "outputs": [
    {
     "name": "stdout",
     "output_type": "stream",
     "text": [
      "     Party  Criminal Case Total Assets Liabilities              state   \n",
      "0      DMK              4   211 Crore+    2 Crore+         TAMIL NADU  \\\n",
      "1      BJP              0     1 Crore+           0     MADHYA PRADESH   \n",
      "2      INC              0     7 Crore+     22 Lac+          KARNATAKA   \n",
      "3      BJP              0     9 Crore+     24 Lac+              BIHAR   \n",
      "4      BJP              2     2 Crore+     61 Lac+        WEST BENGAL   \n",
      "...    ...            ...          ...         ...                ...   \n",
      "2054   CPI              1      61 Lac+     10 Lac+             KERALA   \n",
      "2055   INC              0     2 Crore+      8 Lac+          RAJASTHAN   \n",
      "2056   BJP              0    13 Crore+     85 Lac+      UTTAR PRADESH   \n",
      "2057   NCP              1    25 Crore+     94 Lac+        MAHARASHTRA   \n",
      "2058   BJP              0      11 Lac+           0  ARUNACHAL PRADESH   \n",
      "\n",
      "                  Education  \n",
      "0                  8th Pass  \n",
      "1                 12th Pass  \n",
      "2             Post Graduate  \n",
      "3             Post Graduate  \n",
      "4                  8th Pass  \n",
      "...                     ...  \n",
      "2054  Graduate Professional  \n",
      "2055              10th Pass  \n",
      "2056               Graduate  \n",
      "2057              12th Pass  \n",
      "2058               Graduate  \n",
      "\n",
      "[2059 rows x 6 columns]\n"
     ]
    }
   ],
   "source": [
    "print(new_data)"
   ]
  },
  {
   "cell_type": "code",
   "execution_count": 6,
   "id": "5b8e79c0-dd11-4bf7-abcf-3d40d7c658e2",
   "metadata": {},
   "outputs": [
    {
     "name": "stdout",
     "output_type": "stream",
     "text": [
      "      Party  Criminal Case Total Assets Liabilities  state  Education\n",
      "0         7              4   211 Crore+    2 Crore+     23          3\n",
      "1         4              0     1 Crore+           0     13          1\n",
      "2         8              0     7 Crore+     22 Lac+     11          9\n",
      "3         4              0     9 Crore+     24 Lac+      3          9\n",
      "4         4              2     2 Crore+     61 Lac+     27          3\n",
      "...     ...            ...          ...         ...    ...        ...\n",
      "2054      5              1      61 Lac+     10 Lac+     12          6\n",
      "2055      8              0     2 Crore+      8 Lac+     21          0\n",
      "2056      4              0    13 Crore+     85 Lac+     25          5\n",
      "2057     13              1    25 Crore+     94 Lac+     14          1\n",
      "2058      4              0      11 Lac+           0      1          5\n",
      "\n",
      "[2059 rows x 6 columns]\n"
     ]
    }
   ],
   "source": [
    "# Use LableEncoder to encode state, party and Education column values to integers\n",
    "\n",
    "label_encoders = [LabelEncoder() for _ in range(3)]\n",
    "\n",
    "new_data['state'] = label_encoders[0].fit_transform(new_data['state'])\n",
    "new_data['Party'] = label_encoders[1].fit_transform(new_data['Party'])\n",
    "new_data['Education'] = label_encoders[2].fit_transform(new_data['Education'])\n",
    "print(new_data)"
   ]
  },
  {
   "cell_type": "code",
   "execution_count": 7,
   "id": "edd90c2b-3e7c-48eb-afbd-f548d63faf67",
   "metadata": {
    "scrolled": true
   },
   "outputs": [
    {
     "name": "stdout",
     "output_type": "stream",
     "text": [
      "      Party  Criminal Case Total Assets Liabilities  state  Education\n",
      "0         7              4   2110000000    20000000     23          3\n",
      "1         4              0     10000000           0     13          1\n",
      "2         8              0     70000000     2200000     11          9\n",
      "3         4              0     90000000     2400000      3          9\n",
      "4         4              2     20000000     6100000     27          3\n",
      "...     ...            ...          ...         ...    ...        ...\n",
      "2054      5              1      6100000     1000000     12          6\n",
      "2055      8              0     20000000      800000     21          0\n",
      "2056      4              0    130000000     8500000     25          5\n",
      "2057     13              1    250000000     9400000     14          1\n",
      "2058      4              0      1100000           0      1          5\n",
      "\n",
      "[2059 rows x 6 columns]\n"
     ]
    }
   ],
   "source": [
    "# Extraxt integer values of Total Asssets and Liabilities\n",
    "\n",
    "for i, asset in enumerate(new_data['Total Assets']):\n",
    "    asset_str = str(asset)\n",
    "    if 'Crore+' in asset_str:\n",
    "        value = int(asset_str.split()[0])\n",
    "        new_data.at[i, 'Total Assets'] = value * 10000000\n",
    "    elif 'Lac+' in asset_str:\n",
    "        value = int(asset_str.split()[0])\n",
    "        new_data.at[i, 'Total Assets'] = value * 100000\n",
    "    elif 'Thou+' in asset_str:\n",
    "        value = int(asset_str.split()[0])\n",
    "        new_data.at[i, 'Total Assets'] = value * 1000\n",
    "    elif 'Hund+' in asset_str:\n",
    "        value = int(asset_str.split()[0])\n",
    "        new_data.at[i, 'Total Assets'] = value * 100\n",
    "\n",
    "for i, asset in enumerate(new_data['Liabilities']):\n",
    "    asset_str = str(asset)\n",
    "    if 'Crore+' in asset_str:\n",
    "        value = int(asset_str.split()[0])\n",
    "        new_data.at[i, 'Liabilities'] = value * 10000000\n",
    "    elif 'Lac+' in asset_str:\n",
    "        value = int(asset_str.split()[0])\n",
    "        new_data.at[i, 'Liabilities'] = value * 100000\n",
    "    elif 'Thou+' in asset_str:\n",
    "        value = int(asset_str.split()[0])\n",
    "        new_data.at[i, 'Liabilities'] = value * 1000\n",
    "    elif 'Hund+' in asset_str:\n",
    "        value = int(asset_str.split()[0])\n",
    "        new_data.at[i, 'Liabilities'] = value * 100\n",
    "\n",
    "print(new_data)\n"
   ]
  },
  {
   "cell_type": "code",
   "execution_count": 8,
   "id": "34656883-1088-417c-bd52-20e2c3de06a3",
   "metadata": {},
   "outputs": [
    {
     "name": "stdout",
     "output_type": "stream",
     "text": [
      "      Party  Criminal Case Total Assets Liabilities  state\n",
      "0         7              4   2110000000    20000000     23\n",
      "1         4              0     10000000           0     13\n",
      "2         8              0     70000000     2200000     11\n",
      "3         4              0     90000000     2400000      3\n",
      "4         4              2     20000000     6100000     27\n",
      "...     ...            ...          ...         ...    ...\n",
      "2054      5              1      6100000     1000000     12\n",
      "2055      8              0     20000000      800000     21\n",
      "2056      4              0    130000000     8500000     25\n",
      "2057     13              1    250000000     9400000     14\n",
      "2058      4              0      1100000           0      1\n",
      "\n",
      "[2059 rows x 5 columns]\n",
      "0       3\n",
      "1       1\n",
      "2       9\n",
      "3       9\n",
      "4       3\n",
      "       ..\n",
      "2054    6\n",
      "2055    0\n",
      "2056    5\n",
      "2057    1\n",
      "2058    5\n",
      "Name: Education, Length: 2059, dtype: int32\n"
     ]
    }
   ],
   "source": [
    "# Split inputs and label\n",
    "\n",
    "x = new_data.drop('Education', axis=1)\n",
    "y = new_data['Education']\n",
    "print(x)\n",
    "print(y)"
   ]
  },
  {
   "cell_type": "code",
   "execution_count": 32,
   "id": "903f22b1-2495-450e-b98a-8c5cc1e013db",
   "metadata": {},
   "outputs": [
    {
     "data": {
      "image/png": "[encoded data removed]",
      "text/plain": [
       "<Figure size 640x480 with 1 Axes>"
      ]
     },
     "metadata": {},
     "output_type": "display_data"
    }
   ],
   "source": [
    "states = np.array(x['state'])  # Example feature values\n",
    "\n",
    "plt.hist(states, bins=10, color='skyblue', edgecolor='black')\n",
    "plt.xlabel('states')\n",
    "plt.ylabel('Frequency')\n",
    "plt.title('Histogram of states')\n",
    "\n",
    "plt.grid(True)\n",
    "plt.savefig('Histogram of states.jpg') \n",
    "plt.show()"
   ]
  },
  {
   "cell_type": "code",
   "execution_count": 33,
   "id": "8ad86a33-0c05-4337-8c44-01f1390546e1",
   "metadata": {},
   "outputs": [
    {
     "data": {
      "image/png": "[encoded data removed]",
      "text/plain": [
       "<Figure size 640x480 with 1 Axes>"
      ]
     },
     "metadata": {},
     "output_type": "display_data"
    }
   ],
   "source": [
    "party = np.array(x['Party'])\n",
    "\n",
    "plt.hist(party, bins=10, color='skyblue', edgecolor='black')\n",
    "plt.xlabel('party')\n",
    "plt.ylabel('Frequency')\n",
    "plt.title('Histogram of party')\n",
    "\n",
    "plt.grid(True)\n",
    "plt.savefig('Histogram of party.jpg') \n",
    "plt.show()"
   ]
  },
  {
   "cell_type": "code",
   "execution_count": 22,
   "id": "0243223a-3f6f-40d9-bf16-a51de573510a",
   "metadata": {},
   "outputs": [],
   "source": [
    "# Initialize KNN classifier\n",
    "\n",
    "knn_classifier = KNeighborsClassifier(n_neighbors=27)"
   ]
  },
  {
   "cell_type": "code",
   "execution_count": 23,
   "id": "05a0eac9-19b9-4b72-b891-6aaec18faf67",
   "metadata": {},
   "outputs": [
    {
     "data": {
      "text/html": [
       "<style>#sk-container-id-2 {color: black;background-color: white;}#sk-container-id-2 pre{padding: 0;}#sk-container-id-2 div.sk-toggleable {background-color: white;}#sk-container-id-2 label.sk-toggleable__label {cursor: pointer;display: block;width: 100%;margin-bottom: 0;padding: 0.3em;box-sizing: border-box;text-align: center;}#sk-container-id-2 label.sk-toggleable__label-arrow:before {content: \"▸\";float: left;margin-right: 0.25em;color: #696969;}#sk-container-id-2 label.sk-toggleable__label-arrow:hover:before {color: black;}#sk-container-id-2 div.sk-estimator:hover label.sk-toggleable__label-arrow:before {color: black;}#sk-container-id-2 div.sk-toggleable__content {max-height: 0;max-width: 0;overflow: hidden;text-align: left;background-color: #f0f8ff;}#sk-container-id-2 div.sk-toggleable__content pre {margin: 0.2em;color: black;border-radius: 0.25em;background-color: #f0f8ff;}#sk-container-id-2 input.sk-toggleable__control:checked~div.sk-toggleable__content {max-height: 200px;max-width: 100%;overflow: auto;}#sk-container-id-2 input.sk-toggleable__control:checked~label.sk-toggleable__label-arrow:before {content: \"▾\";}#sk-container-id-2 div.sk-estimator input.sk-toggleable__control:checked~label.sk-toggleable__label {background-color: #d4ebff;}#sk-container-id-2 div.sk-label input.sk-toggleable__control:checked~label.sk-toggleable__label {background-color: #d4ebff;}#sk-container-id-2 input.sk-hidden--visually {border: 0;clip: rect(1px 1px 1px 1px);clip: rect(1px, 1px, 1px, 1px);height: 1px;margin: -1px;overflow: hidden;padding: 0;position: absolute;width: 1px;}#sk-container-id-2 div.sk-estimator {font-family: monospace;background-color: #f0f8ff;border: 1px dotted black;border-radius: 0.25em;box-sizing: border-box;margin-bottom: 0.5em;}#sk-container-id-2 div.sk-estimator:hover {background-color: #d4ebff;}#sk-container-id-2 div.sk-parallel-item::after {content: \"\";width: 100%;border-bottom: 1px solid gray;flex-grow: 1;}#sk-container-id-2 div.sk-label:hover label.sk-toggleable__label {background-color: #d4ebff;}#sk-container-id-2 div.sk-serial::before {content: \"\";position: absolute;border-left: 1px solid gray;box-sizing: border-box;top: 0;bottom: 0;left: 50%;z-index: 0;}#sk-container-id-2 div.sk-serial {display: flex;flex-direction: column;align-items: center;background-color: white;padding-right: 0.2em;padding-left: 0.2em;position: relative;}#sk-container-id-2 div.sk-item {position: relative;z-index: 1;}#sk-container-id-2 div.sk-parallel {display: flex;align-items: stretch;justify-content: center;background-color: white;position: relative;}#sk-container-id-2 div.sk-item::before, #sk-container-id-2 div.sk-parallel-item::before {content: \"\";position: absolute;border-left: 1px solid gray;box-sizing: border-box;top: 0;bottom: 0;left: 50%;z-index: -1;}#sk-container-id-2 div.sk-parallel-item {display: flex;flex-direction: column;z-index: 1;position: relative;background-color: white;}#sk-container-id-2 div.sk-parallel-item:first-child::after {align-self: flex-end;width: 50%;}#sk-container-id-2 div.sk-parallel-item:last-child::after {align-self: flex-start;width: 50%;}#sk-container-id-2 div.sk-parallel-item:only-child::after {width: 0;}#sk-container-id-2 div.sk-dashed-wrapped {border: 1px dashed gray;margin: 0 0.4em 0.5em 0.4em;box-sizing: border-box;padding-bottom: 0.4em;background-color: white;}#sk-container-id-2 div.sk-label label {font-family: monospace;font-weight: bold;display: inline-block;line-height: 1.2em;}#sk-container-id-2 div.sk-label-container {text-align: center;}#sk-container-id-2 div.sk-container {/* jupyter's `normalize.less` sets `[hidden] { display: none; }` but bootstrap.min.css set `[hidden] { display: none !important; }` so we also need the `!important` here to be able to override the default hidden behavior on the sphinx rendered scikit-learn.org. See: https://github.com/scikit-learn/scikit-learn/issues/21755 */display: inline-block !important;position: relative;}#sk-container-id-2 div.sk-text-repr-fallback {display: none;}</style><div id=\"sk-container-id-2\" class=\"sk-top-container\"><div class=\"sk-text-repr-fallback\"><pre>KNeighborsClassifier(n_neighbors=27)</pre><b>In a Jupyter environment, please rerun this cell to show the HTML representation or trust the notebook. <br />On GitHub, the HTML representation is unable to render, please try loading this page with nbviewer.org.</b></div><div class=\"sk-container\" hidden><div class=\"sk-item\"><div class=\"sk-estimator sk-toggleable\"><input class=\"sk-toggleable__control sk-hidden--visually\" id=\"sk-estimator-id-2\" type=\"checkbox\" checked><label for=\"sk-estimator-id-2\" class=\"sk-toggleable__label sk-toggleable__label-arrow\">KNeighborsClassifier</label><div class=\"sk-toggleable__content\"><pre>KNeighborsClassifier(n_neighbors=27)</pre></div></div></div></div></div>"
      ],
      "text/plain": [
       "KNeighborsClassifier(n_neighbors=27)"
      ]
     },
     "execution_count": 23,
     "metadata": {},
     "output_type": "execute_result"
    }
   ],
   "source": [
    "# Train the KNN classifier\n",
    "\n",
    "knn_classifier.fit(x, y)"
   ]
  },
  {
   "cell_type": "code",
   "execution_count": 24,
   "id": "d4234679-2bd8-4d82-b111-8b87d29a40bf",
   "metadata": {},
   "outputs": [
    {
     "data": {
      "text/html": [
       "<div>\n",
       "<style scoped>\n",
       "    .dataframe tbody tr th:only-of-type {\n",
       "        vertical-align: middle;\n",
       "    }\n",
       "\n",
       "    .dataframe tbody tr th {\n",
       "        vertical-align: top;\n",
       "    }\n",
       "\n",
       "    .dataframe thead th {\n",
       "        text-align: right;\n",
       "    }\n",
       "</style>\n",
       "<table border=\"1\" class=\"dataframe\">\n",
       "  <thead>\n",
       "    <tr style=\"text-align: right;\">\n",
       "      <th></th>\n",
       "      <th>ID</th>\n",
       "      <th>Candidate</th>\n",
       "      <th>Constituency ∇</th>\n",
       "      <th>Party</th>\n",
       "      <th>Criminal Case</th>\n",
       "      <th>Total Assets</th>\n",
       "      <th>Liabilities</th>\n",
       "      <th>state</th>\n",
       "    </tr>\n",
       "  </thead>\n",
       "  <tbody>\n",
       "    <tr>\n",
       "      <th>0</th>\n",
       "      <td>0</td>\n",
       "      <td>Geeta Bharat Jain</td>\n",
       "      <td>MEERA BHAYANDAR</td>\n",
       "      <td>IND</td>\n",
       "      <td>2</td>\n",
       "      <td>70 Crore+</td>\n",
       "      <td>11 Crore+</td>\n",
       "      <td>MAHARASHTRA</td>\n",
       "    </tr>\n",
       "    <tr>\n",
       "      <th>1</th>\n",
       "      <td>1</td>\n",
       "      <td>Becharam Manna</td>\n",
       "      <td>SINGUR</td>\n",
       "      <td>AITC</td>\n",
       "      <td>1</td>\n",
       "      <td>2 Crore+</td>\n",
       "      <td>13 Lac+</td>\n",
       "      <td>WEST BENGAL</td>\n",
       "    </tr>\n",
       "    <tr>\n",
       "      <th>2</th>\n",
       "      <td>2</td>\n",
       "      <td>Sunil Vijay Tingre</td>\n",
       "      <td>VADGAON SHERI</td>\n",
       "      <td>NCP</td>\n",
       "      <td>3</td>\n",
       "      <td>49 Crore+</td>\n",
       "      <td>1 Crore+</td>\n",
       "      <td>MAHARASHTRA</td>\n",
       "    </tr>\n",
       "    <tr>\n",
       "      <th>3</th>\n",
       "      <td>3</td>\n",
       "      <td>Asit Mazumder (Tapan)</td>\n",
       "      <td>CHUNCHURA</td>\n",
       "      <td>AITC</td>\n",
       "      <td>1</td>\n",
       "      <td>2 Crore+</td>\n",
       "      <td>0</td>\n",
       "      <td>WEST BENGAL</td>\n",
       "    </tr>\n",
       "    <tr>\n",
       "      <th>4</th>\n",
       "      <td>4</td>\n",
       "      <td>Hriday Narayan Singh Patel</td>\n",
       "      <td>SAGRI</td>\n",
       "      <td>SP</td>\n",
       "      <td>0</td>\n",
       "      <td>16 Crore+</td>\n",
       "      <td>2 Crore+</td>\n",
       "      <td>UTTAR PRADESH</td>\n",
       "    </tr>\n",
       "  </tbody>\n",
       "</table>\n",
       "</div>"
      ],
      "text/plain": [
       "   ID                   Candidate   Constituency ∇ Party  Criminal Case   \n",
       "0   0           Geeta Bharat Jain  MEERA BHAYANDAR   IND              2  \\\n",
       "1   1              Becharam Manna           SINGUR  AITC              1   \n",
       "2   2          Sunil Vijay Tingre    VADGAON SHERI   NCP              3   \n",
       "3   3       Asit Mazumder (Tapan)        CHUNCHURA  AITC              1   \n",
       "4   4  Hriday Narayan Singh Patel            SAGRI    SP              0   \n",
       "\n",
       "  Total Assets Liabilities          state  \n",
       "0    70 Crore+   11 Crore+    MAHARASHTRA  \n",
       "1     2 Crore+     13 Lac+    WEST BENGAL  \n",
       "2    49 Crore+    1 Crore+    MAHARASHTRA  \n",
       "3     2 Crore+           0    WEST BENGAL  \n",
       "4    16 Crore+    2 Crore+  UTTAR PRADESH  "
      ]
     },
     "execution_count": 24,
     "metadata": {},
     "output_type": "execute_result"
    }
   ],
   "source": [
    "test_data.head(5)"
   ]
  },
  {
   "cell_type": "code",
   "execution_count": 25,
   "id": "6b81f30e-dcec-4adb-855b-1ca570ac76df",
   "metadata": {},
   "outputs": [],
   "source": [
    "selected_columns = ['Party', 'Criminal Case', 'Total Assets', 'Liabilities', 'state']\n",
    "new_test_data = test_data[selected_columns].copy()"
   ]
  },
  {
   "cell_type": "code",
   "execution_count": 26,
   "id": "9c977594-c322-47ce-8822-abadb5555c61",
   "metadata": {},
   "outputs": [],
   "source": [
    "# Use LableEncoder to encode state and party column values to integers\n",
    "\n",
    "new_test_data['state'] = label_encoders[0].transform(new_test_data['state'])\n",
    "new_test_data['Party'] = label_encoders[1].transform(new_test_data['Party'])"
   ]
  },
  {
   "cell_type": "code",
   "execution_count": 27,
   "id": "67c2774f-718d-46fe-aab6-a6c4f2b9d10d",
   "metadata": {},
   "outputs": [
    {
     "name": "stdout",
     "output_type": "stream",
     "text": [
      "      Party  Criminal Case Total Assets Liabilities  state\n",
      "0         9              2    700000000   110000000     14\n",
      "1         2              1     20000000     1300000     27\n",
      "2        13              3    490000000    10000000     14\n",
      "3         2              1     20000000           0     27\n",
      "4        18              0    160000000    20000000     25\n",
      "...     ...            ...          ...         ...    ...\n",
      "1369      4              0     10000000           0     27\n",
      "1370      3              1            0     1300000     18\n",
      "1371      8              1     50000000           0      3\n",
      "1372      4              1     20000000      500000      9\n",
      "1373      4              0     90000000           0      4\n",
      "\n",
      "[1374 rows x 5 columns]\n"
     ]
    }
   ],
   "source": [
    "# Extraxt integer values of Total Asssets and Liabilities\n",
    "\n",
    "for i, asset in enumerate(new_test_data['Total Assets']):\n",
    "    asset_str = str(asset)\n",
    "    if 'Crore+' in asset_str:\n",
    "        value = int(asset_str.split()[0])\n",
    "        new_test_data.at[i, 'Total Assets'] = value * 10000000\n",
    "    elif 'Lac+' in asset_str:\n",
    "        value = int(asset_str.split()[0])\n",
    "        new_test_data.at[i, 'Total Assets'] = value * 100000\n",
    "    elif 'Thou+' in asset_str:\n",
    "        value = int(asset_str.split()[0])\n",
    "        new_test_data.at[i, 'Total Assets'] = value * 1000\n",
    "    elif 'Hund+' in asset_str:\n",
    "        value = int(asset_str.split()[0])\n",
    "        new_test_data.at[i, 'Total Assets'] = value * 100\n",
    "\n",
    "for i, asset in enumerate(new_test_data['Liabilities']):\n",
    "    asset_str = str(asset)\n",
    "    if 'Crore+' in asset_str:\n",
    "        value = int(asset_str.split()[0])\n",
    "        new_test_data.at[i, 'Liabilities'] = value * 10000000\n",
    "    elif 'Lac+' in asset_str:\n",
    "        value = int(asset_str.split()[0])\n",
    "        new_test_data.at[i, 'Liabilities'] = value * 100000\n",
    "    elif 'Thou+' in asset_str:\n",
    "        value = int(asset_str.split()[0])\n",
    "        new_test_data.at[i, 'Liabilities'] = value * 1000\n",
    "    elif 'Hund+' in asset_str:\n",
    "        value = int(asset_str.split()[0])\n",
    "        new_test_data.at[i, 'Liabilities'] = value * 100\n",
    "\n",
    "print(new_test_data)"
   ]
  },
  {
   "cell_type": "code",
   "execution_count": 28,
   "id": "13981f45-8186-4608-b00d-33e2807957f9",
   "metadata": {},
   "outputs": [],
   "source": [
    "pred = knn_classifier.predict(new_test_data)\n",
    "original_pred = label_encoders[2].inverse_transform(pred)"
   ]
  },
  {
   "cell_type": "code",
   "execution_count": 29,
   "id": "f0fca076-b78e-46d4-b72e-6a419f3e63a0",
   "metadata": {},
   "outputs": [],
   "source": [
    "df = pd.DataFrame({\"ID\":test_data[\"ID\"],\"Education\":original_pred})\n",
    "df.to_csv('predictions.csv', index=False)"
   ]
  },
  {
   "cell_type": "code",
   "execution_count": null,
   "id": "6c9fc2ee-0ee3-419a-907c-e85d4eb2f4a9",
   "metadata": {},
   "outputs": [],
   "source": []
  }
 ],
 "metadata": {
  "kernelspec": {
   "display_name": "Python 3 (ipykernel)",
   "language": "python",
   "name": "python3"
  },
  "language_info": {
   "codemirror_mode": {
    "name": "ipython",
    "version": 3
   },
   "file_extension": ".py",
   "mimetype": "text/x-python",
   "name": "python",
   "nbconvert_exporter": "python",
   "pygments_lexer": "ipython3",
   "version": "3.11.4"
  }
 },
 "nbformat": 4,
 "nbformat_minor": 5
}
